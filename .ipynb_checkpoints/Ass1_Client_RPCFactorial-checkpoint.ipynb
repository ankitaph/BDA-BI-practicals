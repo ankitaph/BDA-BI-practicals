{
 "cells": [
  {
   "cell_type": "code",
   "execution_count": null,
   "id": "5ee2123e",
   "metadata": {},
   "outputs": [
    {
     "name": "stdout",
     "output_type": "stream",
     "text": [
      "Enter an integer value: 8\n"
     ]
    }
   ],
   "source": [
    "import xmlrpc.client\n",
    "\n",
    "n = int(input(\"Enter an integer value: \"))\n",
    "proxy = xmlrpc.client.ServerProxy('http://localhost:8000/')\n",
    "result = proxy.factorial(n)\n",
    "print(f\"The factorial of {n} is {result}\")\n"
   ]
  },
  {
   "cell_type": "code",
   "execution_count": null,
   "id": "886afc2e",
   "metadata": {},
   "outputs": [],
   "source": []
  },
  {
   "cell_type": "code",
   "execution_count": null,
   "id": "fa045875",
   "metadata": {},
   "outputs": [],
   "source": []
  }
 ],
 "metadata": {
  "kernelspec": {
   "display_name": "Python 3 (ipykernel)",
   "language": "python",
   "name": "python3"
  },
  "language_info": {
   "codemirror_mode": {
    "name": "ipython",
    "version": 3
   },
   "file_extension": ".py",
   "mimetype": "text/x-python",
   "name": "python",
   "nbconvert_exporter": "python",
   "pygments_lexer": "ipython3",
   "version": "3.11.4"
  }
 },
 "nbformat": 4,
 "nbformat_minor": 5
}
