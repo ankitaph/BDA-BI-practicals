{
 "cells": [
  {
   "cell_type": "code",
   "execution_count": null,
   "id": "bdfcf21e",
   "metadata": {},
   "outputs": [],
   "source": [
    "import xmlrpc.server\n",
    "\n",
    "def factorial(n):\n",
    "    if n == 0:\n",
    "        return 1\n",
    "    else:\n",
    "        return n * factorial(n-1)\n",
    "\n",
    "server = xmlrpc.server.SimpleXMLRPCServer(('localhost', 8000))\n",
    "server.register_function(factorial)\n",
    "print(\"Server started on http://localhost:8000\")\n",
    "server.serve_forever()"
   ]
  }
 ],
 "metadata": {
  "kernelspec": {
   "display_name": "Python 3 (ipykernel)",
   "language": "python",
   "name": "python3"
  },
  "language_info": {
   "codemirror_mode": {
    "name": "ipython",
    "version": 3
   },
   "file_extension": ".py",
   "mimetype": "text/x-python",
   "name": "python",
   "nbconvert_exporter": "python",
   "pygments_lexer": "ipython3",
   "version": "3.11.4"
  }
 },
 "nbformat": 4,
 "nbformat_minor": 5
}
