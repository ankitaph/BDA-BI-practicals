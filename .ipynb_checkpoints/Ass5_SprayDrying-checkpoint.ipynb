{
 "cells": [
  {
   "cell_type": "code",
   "execution_count": 3,
   "id": "a2a83fea",
   "metadata": {},
   "outputs": [
    {
     "name": "stdout",
     "output_type": "stream",
     "text": [
      "Collecting geneticalgorithm\n",
      "  Obtaining dependency information for geneticalgorithm from https://files.pythonhosted.org/packages/ac/d2/fb9061239eaeee5c0373844f27f43514f33201bc08aea54d65b437402966/geneticalgorithm-1.0.2-py3-none-any.whl.metadata\n",
      "  Downloading geneticalgorithm-1.0.2-py3-none-any.whl.metadata (25 kB)\n",
      "Collecting func-timeout (from geneticalgorithm)\n",
      "  Downloading func_timeout-4.3.5.tar.gz (44 kB)\n",
      "     ---------------------------------------- 0.0/44.3 kB ? eta -:--:--\n",
      "     ---------------------------------------- 44.3/44.3 kB 2.1 MB/s eta 0:00:00\n",
      "  Preparing metadata (setup.py): started\n",
      "  Preparing metadata (setup.py): finished with status 'done'\n",
      "Requirement already satisfied: numpy in c:\\users\\ankita\\anaconda3\\lib\\site-packages (from geneticalgorithm) (1.24.3)\n",
      "Downloading geneticalgorithm-1.0.2-py3-none-any.whl (16 kB)\n",
      "Building wheels for collected packages: func-timeout\n",
      "  Building wheel for func-timeout (setup.py): started\n",
      "  Building wheel for func-timeout (setup.py): finished with status 'done'\n",
      "  Created wheel for func-timeout: filename=func_timeout-4.3.5-py3-none-any.whl size=15110 sha256=acf85a8927f7cdd1e3b772544ed3526fa785a302f82546bf2bf875c06ffd735e\n",
      "  Stored in directory: c:\\users\\ankita\\appdata\\local\\pip\\cache\\wheels\\07\\e6\\86\\f23164d12c3134966614102db8e7956ab359faf7ffd78703ce\n",
      "Successfully built func-timeout\n",
      "Installing collected packages: func-timeout, geneticalgorithm\n",
      "Successfully installed func-timeout-4.3.5 geneticalgorithm-1.0.2\n",
      "Note: you may need to restart the kernel to use updated packages.\n"
     ]
    }
   ],
   "source": [
    "pip install geneticalgorithm\n"
   ]
  },
  {
   "cell_type": "code",
   "execution_count": 1,
   "id": "84255012",
   "metadata": {},
   "outputs": [
    {
     "name": "stdout",
     "output_type": "stream",
     "text": [
      " The best solution found:                                                                           \n",
      " [32.  3.  3.  1.]\n",
      "\n",
      " Objective function:\n",
      " -0.9542020528953551\n"
     ]
    },
    {
     "data": {
      "image/png": "[encoded data removed]",
      "text/plain": [
       "<Figure size 640x480 with 1 Axes>"
      ]
     },
     "metadata": {},
     "output_type": "display_data"
    },
    {
     "name": "stdout",
     "output_type": "stream",
     "text": [
      "Best parameters found by genetic algorithm: [32.  3.  3.  1.]\n",
      "Validation error of neural network: -0.9529522583523036\n"
     ]
    }
   ],
   "source": [
    "# Import necessary libraries\n",
    "import numpy as np\n",
    "from sklearn.model_selection import train_test_split\n",
    "from sklearn.preprocessing import StandardScaler\n",
    "from sklearn.neural_network import MLPRegressor\n",
    "from geneticalgorithm import geneticalgorithm as ga\n",
    "import warnings\n",
    "\n",
    "# Define functions for genetic algorithm fitness evaluation and neural network training\n",
    "def fitness_function(params):\n",
    "    # Decode parameters\n",
    "    hidden_layer_sizes = (int(params[0]),) * int(params[1])\n",
    "    activation = ['identity', 'logistic', 'tanh', 'relu'][int(params[2])]\n",
    "    solver = ['lbfgs', 'sgd', 'adam'][int(params[3])]\n",
    "    \n",
    "    # Create and train neural network\n",
    "    model = MLPRegressor(hidden_layer_sizes=hidden_layer_sizes, activation=activation, solver=solver)\n",
    "    model.fit(X_train, y_train)\n",
    "    \n",
    "    # Evaluate fitness (example: mean squared error)\n",
    "    fitness = -model.score(X_val, y_val)\n",
    "    \n",
    "    return fitness\n",
    "\n",
    "def train_neural_network(params):\n",
    "    # Decode parameters\n",
    "    hidden_layer_sizes = (int(params[0]),) * int(params[1])\n",
    "    activation = ['identity', 'logistic', 'tanh', 'relu'][int(params[2])]\n",
    "    solver = ['lbfgs', 'sgd', 'adam'][int(params[3])]\n",
    "    \n",
    "    # Create and train neural network\n",
    "    model = MLPRegressor(hidden_layer_sizes=hidden_layer_sizes, activation=activation, solver=solver)\n",
    "    model.fit(X_train, y_train)\n",
    "    \n",
    "    # Evaluate neural network performance on validation data\n",
    "    validation_error = -model.score(X_val, y_val)\n",
    "    \n",
    "    return validation_error\n",
    "\n",
    "# Load your dataset\n",
    "np.random.seed(42)\n",
    "\n",
    "# Assuming you have features like temperature, humidity, etc., and you want to predict drying time\n",
    "num_samples = 1000\n",
    "num_features = 5  # Adjust based on your actual features\n",
    "\n",
    "# Generate synthetic features\n",
    "X = np.random.rand(num_samples, num_features)\n",
    "\n",
    "# Generate synthetic target variable (drying time)\n",
    "# Here, we'll assume a linear relationship with some noise\n",
    "true_coefficients = np.random.rand(num_features) * 10  # Random coefficients for features\n",
    "noise = np.random.normal(loc=0, scale=1, size=num_samples)  # Gaussian noise\n",
    "y = np.dot(X, true_coefficients) + noise\n",
    "\n",
    "\n",
    "# Example: Replace X_train, X_val, y_train, y_val with your dataset\n",
    "X_train, X_val, y_train, y_val = train_test_split(X, y, test_size=0.2, random_state=42)\n",
    "\n",
    "warnings.filterwarnings(\"ignore\")\n",
    "\n",
    "# Define genetic algorithm parameters\n",
    "number_of_parameters = 4  # Adjust based on the number of parameters you want to optimize\n",
    "varbound = np.array([[5, 50],  # Range for number of neurons in each hidden layer\n",
    "                     [1, 5],    # Range for number of hidden layers\n",
    "                     [0, 3],    # Activation function: 0 for identity, 1 for logistic, 2 for tanh, 3 for relu\n",
    "                     [0, 2]])   # Solver: 0 for lbfgs, 1 for sgd, 2 for adam\n",
    "algorithm_param = {'max_num_iteration': 1, 'population_size': 100, 'mutation_probability': 0.1,\n",
    "                   'elit_ratio': 0.01, 'crossover_probability': 0.5, 'parents_portion': 0.3,\n",
    "                   'crossover_type': 'uniform', 'max_iteration_without_improv': None}\n",
    "model = ga(function=fitness_function, dimension=number_of_parameters, variable_type='int', variable_boundaries=varbound,\n",
    "           algorithm_parameters=algorithm_param)\n",
    "\n",
    "# Run the genetic algorithm\n",
    "model.run()\n",
    "\n",
    "# Get the best parameters found by the genetic algorithm\n",
    "best_params = model.output_dict['variable']\n",
    "\n",
    "# Train neural network with the best parameters\n",
    "validation_error = train_neural_network(best_params)\n",
    "\n",
    "print(\"Best parameters found by genetic algorithm:\", best_params)\n",
    "print(\"Validation error of neural network:\", validation_error)\n",
    "\n",
    "# Optionally, you can further evaluate the neural network on a test set\n",
    "# and perform any additional analysis or visualization"
   ]
  },
  {
   "cell_type": "code",
   "execution_count": null,
   "id": "b62b6674",
   "metadata": {},
   "outputs": [],
   "source": []
  }
 ],
 "metadata": {
  "kernelspec": {
   "display_name": "Python 3 (ipykernel)",
   "language": "python",
   "name": "python3"
  },
  "language_info": {
   "codemirror_mode": {
    "name": "ipython",
    "version": 3
   },
   "file_extension": ".py",
   "mimetype": "text/x-python",
   "name": "python",
   "nbconvert_exporter": "python",
   "pygments_lexer": "ipython3",
   "version": "3.11.4"
  }
 },
 "nbformat": 4,
 "nbformat_minor": 5
}
