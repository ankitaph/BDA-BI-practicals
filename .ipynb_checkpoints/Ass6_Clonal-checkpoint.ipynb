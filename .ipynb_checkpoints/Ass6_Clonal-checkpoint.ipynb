{
 "cells": [
  {
   "cell_type": "code",
   "execution_count": 1,
   "id": "ad1378c7",
   "metadata": {},
   "outputs": [
    {
     "name": "stdout",
     "output_type": "stream",
     "text": [
      "Best solution: [-3.22372272  3.43647201 -3.54097677  2.03683921  0.15663003 -4.61304089\n",
      " -2.65431461  2.82230547  4.87347711  3.8691134 ]\n",
      "Best fitness: -650.431974094236\n"
     ]
    }
   ],
   "source": [
    "import numpy as np\n",
    "\n",
    "# Define the Sphere function to be optimized\n",
    "def sphere_function(x):\n",
    "    return np.sum(x**3)\n",
    "\n",
    "# Define the Clonal Selection Algorithm\n",
    "def clonal_selection_algorithm(objective_function, dim, pop_size, max_iter, mutation_rate):\n",
    "    # Initialize population randomly\n",
    "    population = np.random.uniform(-5, 5, size=(pop_size, dim))\n",
    "    \n",
    "    for iter in range(max_iter):\n",
    "        # Evaluate fitness for each individual\n",
    "        fitness = np.array([objective_function(ind) for ind in population])\n",
    "        \n",
    "        # Sort population based on fitness\n",
    "        sorted_indices = np.argsort(fitness)\n",
    "        population = population[sorted_indices]\n",
    "        fitness = fitness[sorted_indices]\n",
    "        \n",
    "        # Clone individuals based on their fitness\n",
    "        num_clones = int(pop_size * 0.5)\n",
    "        clones = population[:num_clones]\n",
    "        \n",
    "        # Mutate clones\n",
    "        mutated_clones = clones + np.random.normal(scale=mutation_rate, size=clones.shape)\n",
    "        \n",
    "        # Select the best individuals from the original population and mutated clones\n",
    "        new_population = np.vstack((population[-num_clones:], mutated_clones))\n",
    "        \n",
    "        population = new_population\n",
    "    \n",
    "    # Return the best solution found\n",
    "    best_solution = population[np.argmin(fitness)]\n",
    "    best_fitness = fitness.min()\n",
    "    \n",
    "    return best_solution, best_fitness\n",
    "\n",
    "# Define parameters\n",
    "dim = 10           # Dimensionality of the problem\n",
    "pop_size = 100     # Population size\n",
    "max_iter = 100     # Maximum number of iterations\n",
    "mutation_rate = 0.1  # Mutation rate\n",
    "\n",
    "# Run Clonal Selection Algorithm\n",
    "best_solution, best_fitness = clonal_selection_algorithm(sphere_function, dim, pop_size, max_iter, mutation_rate)\n",
    "\n",
    "print(\"Best solution:\", best_solution)\n",
    "print(\"Best fitness:\", best_fitness)"
   ]
  },
  {
   "cell_type": "code",
   "execution_count": null,
   "id": "c5805fbe",
   "metadata": {},
   "outputs": [],
   "source": []
  }
 ],
 "metadata": {
  "kernelspec": {
   "display_name": "Python 3 (ipykernel)",
   "language": "python",
   "name": "python3"
  },
  "language_info": {
   "codemirror_mode": {
    "name": "ipython",
    "version": 3
   },
   "file_extension": ".py",
   "mimetype": "text/x-python",
   "name": "python",
   "nbconvert_exporter": "python",
   "pygments_lexer": "ipython3",
   "version": "3.11.4"
  }
 },
 "nbformat": 4,
 "nbformat_minor": 5
}
