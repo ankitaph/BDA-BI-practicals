{
 "cells": [
  {
   "cell_type": "code",
   "execution_count": 2,
   "id": "7aee5fcf",
   "metadata": {},
   "outputs": [
    {
     "name": "stdout",
     "output_type": "stream",
     "text": [
      "Collecting deap\n",
      "  Downloading deap-1.4.1.tar.gz (1.1 MB)\n",
      "     ---------------------------------------- 0.0/1.1 MB ? eta -:--:--\n",
      "     ----------------------- ---------------- 0.6/1.1 MB 20.1 MB/s eta 0:00:01\n",
      "     ----------------------- ---------------- 0.6/1.1 MB 20.1 MB/s eta 0:00:01\n",
      "     ----------------------- ---------------- 0.6/1.1 MB 20.1 MB/s eta 0:00:01\n",
      "     ----------------------- ---------------- 0.6/1.1 MB 20.1 MB/s eta 0:00:01\n",
      "     ----------------------- ---------------- 0.6/1.1 MB 20.1 MB/s eta 0:00:01\n",
      "     ----------------------- ---------------- 0.6/1.1 MB 20.1 MB/s eta 0:00:01\n",
      "     ----------------------- ---------------- 0.6/1.1 MB 20.1 MB/s eta 0:00:01\n",
      "     ----------------------- ---------------- 0.6/1.1 MB 20.1 MB/s eta 0:00:01\n",
      "     ----------------------- ---------------- 0.6/1.1 MB 20.1 MB/s eta 0:00:01\n",
      "     ----------------------- ---------------- 0.6/1.1 MB 20.1 MB/s eta 0:00:01\n",
      "     ----------------------- ---------------- 0.6/1.1 MB 20.1 MB/s eta 0:00:01\n",
      "     -------------------------------- ------- 0.9/1.1 MB 1.6 MB/s eta 0:00:01\n",
      "     -------------------------------- ------- 0.9/1.1 MB 1.6 MB/s eta 0:00:01\n",
      "     ------------------------------------ --- 1.0/1.1 MB 1.5 MB/s eta 0:00:01\n",
      "     ---------------------------------------- 1.1/1.1 MB 1.6 MB/s eta 0:00:00\n",
      "  Preparing metadata (setup.py): started\n",
      "  Preparing metadata (setup.py): finished with status 'done'\n",
      "Requirement already satisfied: numpy in c:\\users\\ankita\\anaconda3\\lib\\site-packages (from deap) (1.24.3)\n",
      "Building wheels for collected packages: deap\n",
      "  Building wheel for deap (setup.py): started\n",
      "  Building wheel for deap (setup.py): finished with status 'done'\n",
      "  Created wheel for deap: filename=deap-1.4.1-py3-none-any.whl size=97349 sha256=3ca303f55007801b5ae4a125db4933f32eb3cc9decc0d030e8d02457e2b30c82\n",
      "  Stored in directory: c:\\users\\ankita\\appdata\\local\\pip\\cache\\wheels\\f8\\64\\b8\\65eacfbff3024ae2e2beb22e691d5c8abb89fbd863b8049b5f\n",
      "Successfully built deap\n",
      "Installing collected packages: deap\n",
      "Successfully installed deap-1.4.1\n",
      "Note: you may need to restart the kernel to use updated packages.\n"
     ]
    }
   ],
   "source": [
    "pip install deap"
   ]
  },
  {
   "cell_type": "code",
   "execution_count": 1,
   "id": "6eecdadf",
   "metadata": {},
   "outputs": [
    {
     "name": "stdout",
     "output_type": "stream",
     "text": [
      "100\n"
     ]
    }
   ],
   "source": [
    "import random\n",
    "from deap import creator, base, tools, algorithms\n",
    "\n",
    "creator.create(\"FitnessMax\", base.Fitness, weights=(1.0,))\n",
    "creator.create(\"Individual\", list, fitness=creator.FitnessMax)\n",
    "\n",
    "toolbox = base.Toolbox()\n",
    "\n",
    "toolbox.register(\"attr_bool\", random.randint, 0, 1)\n",
    "toolbox.register(\"individual\", tools.initRepeat, creator.Individual, toolbox.attr_bool, n=100)\n",
    "toolbox.register(\"population\", tools.initRepeat, list, toolbox.individual)\n",
    "\n",
    "def evalOneMax(individual):\n",
    "    return sum(individual),\n",
    "\n",
    "toolbox.register(\"evaluate\", evalOneMax)\n",
    "toolbox.register(\"mate\", tools.cxTwoPoint)\n",
    "toolbox.register(\"mutate\", tools.mutFlipBit, indpb=0.05)\n",
    "toolbox.register(\"select\", tools.selTournament, tournsize=3)\n",
    "\n",
    "population = toolbox.population(n=300)\n",
    "\n",
    "NGEN=40\n",
    "for gen in range(NGEN):\n",
    "    offspring = algorithms.varAnd(population, toolbox, cxpb=0.5, mutpb=0.1)\n",
    "    fits = toolbox.map(toolbox.evaluate, offspring)\n",
    "    for fit, ind in zip(fits, offspring):\n",
    "        ind.fitness.values = fit\n",
    "    population = toolbox.select(offspring, k=len(population))\n",
    "top10 = tools.selBest(population, k=10)\n",
    "print(len(top10[0]))"
   ]
  },
  {
   "cell_type": "code",
   "execution_count": null,
   "id": "de6c5f3f",
   "metadata": {},
   "outputs": [],
   "source": []
  }
 ],
 "metadata": {
  "kernelspec": {
   "display_name": "Python 3 (ipykernel)",
   "language": "python",
   "name": "python3"
  },
  "language_info": {
   "codemirror_mode": {
    "name": "ipython",
    "version": 3
   },
   "file_extension": ".py",
   "mimetype": "text/x-python",
   "name": "python",
   "nbconvert_exporter": "python",
   "pygments_lexer": "ipython3",
   "version": "3.11.4"
  }
 },
 "nbformat": 4,
 "nbformat_minor": 5
}
