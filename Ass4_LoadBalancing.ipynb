{
 "cells": [
  {
   "cell_type": "code",
   "execution_count": 1,
   "id": "8c956bb8",
   "metadata": {},
   "outputs": [
    {
     "name": "stdout",
     "output_type": "stream",
     "text": [
      "Enter the number of servers: 3\n",
      "Enter the name of server 1: a\n",
      "Enter the weight of server 1: 5\n",
      "Enter the name of server 2: b\n",
      "Enter the weight of server 2: 2\n",
      "Enter the name of server 3: c\n",
      "Enter the weight of server 3: 4\n",
      "Enter the number of loads: 9\n",
      "\n",
      "Load balancing result:\n",
      "Load 1 assigned to server: a\n",
      "Load 2 assigned to server: b\n",
      "Load 3 assigned to server: c\n",
      "Load 4 assigned to server: a\n",
      "Load 5 assigned to server: b\n",
      "Load 6 assigned to server: c\n",
      "Load 7 assigned to server: a\n",
      "Load 8 assigned to server: b\n",
      "Load 9 assigned to server: c\n"
     ]
    }
   ],
   "source": [
    "def create_server(name, weight):\n",
    "    return {\"name\": name, \"weight\": weight}\n",
    "\n",
    "def create_load_balancer(servers):\n",
    "    return {\"servers\": servers, \"current_index\": 0}\n",
    "\n",
    "def add_server(load_balancer, server):\n",
    "    load_balancer[\"servers\"].append(server)\n",
    "\n",
    "def get_next_server(load_balancer):\n",
    "    next_server = load_balancer[\"servers\"][load_balancer[\"current_index\"]]\n",
    "    load_balancer[\"current_index\"] = (load_balancer[\"current_index\"] + 1) % len(load_balancer[\"servers\"])\n",
    "    return next_server\n",
    "\n",
    "def prompt_server_info(index):\n",
    "    name = input(\"Enter the name of server \" + str(index) + \": \")\n",
    "    weight = int(input(\"Enter the weight of server \" + str(index) + \": \"))\n",
    "    return create_server(name, weight)\n",
    "\n",
    "def assign_load(load_balancer, i):\n",
    "    next_server = get_next_server(load_balancer)\n",
    "    print(\"Load\", i, \"assigned to server:\", next_server[\"name\"])\n",
    "\n",
    "if __name__ == \"__main__\":\n",
    "    servers = []\n",
    "    num_servers = int(input(\"Enter the number of servers: \"))\n",
    "    for i in range(1, num_servers + 1):\n",
    "        servers.append(prompt_server_info(i))\n",
    "\n",
    "    lb = create_load_balancer(servers)\n",
    "\n",
    "    num_loads = int(input(\"Enter the number of loads: \"))\n",
    "\n",
    "    print(\"\\nLoad balancing result:\")\n",
    "    for i in range(1, num_loads + 1):\n",
    "        assign_load(lb, i)\n",
    "\n"
   ]
  },
  {
   "cell_type": "code",
   "execution_count": null,
   "id": "cba5c27f",
   "metadata": {},
   "outputs": [],
   "source": []
  }
 ],
 "metadata": {
  "kernelspec": {
   "display_name": "Python 3 (ipykernel)",
   "language": "python",
   "name": "python3"
  },
  "language_info": {
   "codemirror_mode": {
    "name": "ipython",
    "version": 3
   },
   "file_extension": ".py",
   "mimetype": "text/x-python",
   "name": "python",
   "nbconvert_exporter": "python",
   "pygments_lexer": "ipython3",
   "version": "3.11.4"
  }
 },
 "nbformat": 4,
 "nbformat_minor": 5
}
