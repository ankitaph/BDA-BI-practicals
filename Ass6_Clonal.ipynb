{
 "cells": [
  {
   "cell_type": "code",
   "execution_count": 6,
   "id": "7acd176c",
   "metadata": {},
   "outputs": [
    {
     "name": "stdout",
     "output_type": "stream",
     "text": [
      "64\n"
     ]
    }
   ],
   "source": [
    "import numpy as np\n",
    "x=4\n",
    "\n",
    "print(np.sum(x**3))"
   ]
  },
  {
   "cell_type": "code",
   "execution_count": 1,
   "id": "c5805fbe",
   "metadata": {},
   "outputs": [
    {
     "name": "stdout",
     "output_type": "stream",
     "text": [
      "Best solution: [ 4.28899898  4.05186238  1.34233758  3.18351008  0.88875911  1.83247368\n",
      "  0.96711459 -3.50954702 -3.86833256 -3.78713188]\n",
      "Best fitness: -473.2615119336818\n"
     ]
    }
   ],
   "source": [
    "import numpy as np\n",
    "\n",
    "# Define the Sphere function to be optimized\n",
    "def sphere_function(x):\n",
    "    return np.sum(x**3)\n",
    "\n",
    "# Define the Clonal Selection Algorithm\n",
    "def clonal_selection_algorithm(objective_function, dim, pop_size, max_iter, mutation_rate):\n",
    "    # Initialize population randomly\n",
    "    population = np.random.uniform(-5, 5, size=(pop_size, dim))\n",
    "    \n",
    "    for iter in range(max_iter):\n",
    "        # Evaluate fitness for each individual\n",
    "        fitness = np.array([objective_function(ind) for ind in population])\n",
    "        \n",
    "        # Sort population based on fitness\n",
    "        sorted_indices = np.argsort(fitness)  #incerasing \n",
    "        population = population[sorted_indices]\n",
    "        fitness = fitness[sorted_indices]\n",
    "        \n",
    "        # Clone individuals based on their fitness\n",
    "        num_clones = int(pop_size * 0.5)\n",
    "        clones = population[:num_clones]\n",
    "        \n",
    "        # Mutate clones\n",
    "        mutated_clones = clones + np.random.normal(scale=mutation_rate, size=clones.shape)\n",
    "        \n",
    "        # Select the best individuals from the original population and mutated clones\n",
    "        new_population = np.vstack((population[-num_clones:], mutated_clones))\n",
    "        \n",
    "        population = new_population\n",
    "    \n",
    "    # Return the best solution found\n",
    "    best_solution = population[np.argmin(fitness)]          #indices of minimum value\n",
    "    best_fitness = fitness.min()\n",
    "    \n",
    "    return best_solution, best_fitness\n",
    "\n",
    "# Define parameters\n",
    "dim = 10           # Dimensionality of the problem\n",
    "pop_size = 100     # Population size\n",
    "max_iter = 100     # Maximum number of iterations\n",
    "mutation_rate = 0.1  # Mutation rate\n",
    "\n",
    "# Run Clonal Selection Algorithm\n",
    "best_solution, best_fitness = clonal_selection_algorithm(sphere_function, dim, pop_size, max_iter, mutation_rate)\n",
    "\n",
    "print(\"Best solution:\", best_solution)\n",
    "print(\"Best fitness:\", best_fitness)"
   ]
  },
  {
   "cell_type": "code",
   "execution_count": 2,
   "id": "6cd30f7f",
   "metadata": {},
   "outputs": [
    {
     "name": "stdout",
     "output_type": "stream",
     "text": [
      "Best individual: [0 1 0 0 0 1 1 0 1 0]\n",
      "Fitness: 4\n"
     ]
    }
   ],
   "source": [
    "import numpy as np\n",
    "\n",
    "# Define parameters\n",
    "population_size = 50\n",
    "mutation_rate = 0.1\n",
    "num_iterations = 100\n",
    "\n",
    "# Initialize population randomly\n",
    "population = np.random.randint(2, size=(population_size, 10))  # Assuming 10-bit binary strings\n",
    "\n",
    "# Define fitness function (example)\n",
    "def fitness(individual):\n",
    "    # Example fitness function: Count the number of ones\n",
    "    return np.sum(individual)\n",
    "\n",
    "# Main loop\n",
    "for i in range(num_iterations):\n",
    "    # Evaluate affinity\n",
    "    affinities = np.array([fitness(individual) for individual in population])\n",
    "    \n",
    "    # Clone antibodies based on affinity\n",
    "    num_clones = (affinities / np.max(affinities) * population_size).astype(int)\n",
    "    clones = np.repeat(population, num_clones, axis=0)\n",
    "    \n",
    "    # Hypermutation\n",
    "    for j in range(len(clones)):\n",
    "        for k in range(len(clones[j])):\n",
    "            if np.random.rand() < mutation_rate:\n",
    "                clones[j, k] = 1 - clones[j, k]  # Flip the bit\n",
    "    \n",
    "    # Selection: Replace the current population with the top individuals\n",
    "    population = clones[np.argsort(-affinities)[:population_size]]\n",
    "    \n",
    "# Select the best individual\n",
    "best_individual = population[np.argmax(affinities)]\n",
    "print(\"Best individual:\", best_individual)\n",
    "print(\"Fitness:\", fitness(best_individual))\n"
   ]
  },
  {
   "cell_type": "code",
   "execution_count": null,
   "id": "abc984d6",
   "metadata": {},
   "outputs": [],
   "source": []
  }
 ],
 "metadata": {
  "kernelspec": {
   "display_name": "Python 3 (ipykernel)",
   "language": "python",
   "name": "python3"
  },
  "language_info": {
   "codemirror_mode": {
    "name": "ipython",
    "version": 3
   },
   "file_extension": ".py",
   "mimetype": "text/x-python",
   "name": "python",
   "nbconvert_exporter": "python",
   "pygments_lexer": "ipython3",
   "version": "3.11.4"
  }
 },
 "nbformat": 4,
 "nbformat_minor": 5
}
