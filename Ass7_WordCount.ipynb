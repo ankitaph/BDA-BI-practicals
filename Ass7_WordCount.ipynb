{
 "cells": [
  {
   "cell_type": "markdown",
   "id": "18e215a8",
   "metadata": {},
   "source": [
    "Develop a MapReduce program to calculate the frequency of a given word in a given file."
   ]
  },
  {
   "cell_type": "code",
   "execution_count": null,
   "id": "adcbdebc",
   "metadata": {},
   "outputs": [],
   "source": [
    "# <!-- use this command in cmd - spark-shell -->"
   ]
  },
  {
   "cell_type": "code",
   "execution_count": 1,
   "id": "29b67447",
   "metadata": {},
   "outputs": [
    {
     "name": "stdout",
     "output_type": "stream",
     "text": [
      "Requirement already satisfied: findspark in c:\\users\\ankita\\anaconda3\\lib\\site-packages (2.0.1)\n",
      "Note: you may need to restart the kernel to use updated packages.\n"
     ]
    }
   ],
   "source": [
    "pip install findspark"
   ]
  },
  {
   "cell_type": "code",
   "execution_count": 1,
   "id": "72e1f5cd-97cf-4070-9f57-38498f9ec8c9",
   "metadata": {},
   "outputs": [],
   "source": [
    "import findspark\n",
    "findspark.init()"
   ]
  },
  {
   "cell_type": "code",
   "execution_count": 2,
   "id": "92e0f178-50af-4903-b9dd-603859ee3e13",
   "metadata": {},
   "outputs": [],
   "source": [
    "import pyspark\n",
    "from pyspark.sql import SparkSession\n"
   ]
  },
  {
   "cell_type": "code",
   "execution_count": 3,
   "id": "96071278-b314-411f-b494-98497dbe2ab5",
   "metadata": {},
   "outputs": [],
   "source": [
    "spark=SparkSession.builder.getOrCreate()"
   ]
  },
  {
   "cell_type": "code",
   "execution_count": 4,
   "id": "ee2ee3e5-5adc-4bfd-af6c-d5a1f1d8fa7f",
   "metadata": {},
   "outputs": [],
   "source": [
    "sc=spark.sparkContext"
   ]
  },
  {
   "cell_type": "code",
   "execution_count": 5,
   "id": "262e9f82-c558-4fb1-b493-a79bc033b418",
   "metadata": {},
   "outputs": [],
   "source": [
    "# Read the input file and Calculating words count\n",
    "text_file = sc.textFile(\"input.txt\")\n",
    "counts = text_file.flatMap(lambda line: line.split(\" \")).map(lambda word: (word, 1)).reduceByKey(lambda x, y: x + y)"
   ]
  },
  {
   "cell_type": "code",
   "execution_count": 6,
   "id": "335f9d1f-c299-46cb-bcde-5c4cd70cb551",
   "metadata": {},
   "outputs": [
    {
     "name": "stdout",
     "output_type": "stream",
     "text": [
      "Name,Age,Experience: 1\n",
      "Sarthak,21,0: 1\n",
      "Lalit,22,1: 1\n",
      "Amit,21,2: 1\n"
     ]
    }
   ],
   "source": [
    "output = counts.collect()\n",
    "for (word, count) in output:\n",
    "    print(\"%s: %i\" % (word, count))"
   ]
  },
  {
   "cell_type": "code",
   "execution_count": 7,
   "id": "22cbe224-63c3-4fba-96fa-aacee42c33f7",
   "metadata": {},
   "outputs": [],
   "source": [
    "sc.stop()\n",
    "spark.stop()"
   ]
  },
  {
   "cell_type": "code",
   "execution_count": null,
   "id": "aad8fadb-ac76-4522-8a6f-8030d8bd6d92",
   "metadata": {},
   "outputs": [],
   "source": []
  }
 ],
 "metadata": {
  "kernelspec": {
   "display_name": "Python 3 (ipykernel)",
   "language": "python",
   "name": "python3"
  },
  "language_info": {
   "codemirror_mode": {
    "name": "ipython",
    "version": 3
   },
   "file_extension": ".py",
   "mimetype": "text/x-python",
   "name": "python",
   "nbconvert_exporter": "python",
   "pygments_lexer": "ipython3",
   "version": "3.11.4"
  }
 },
 "nbformat": 4,
 "nbformat_minor": 5
}
