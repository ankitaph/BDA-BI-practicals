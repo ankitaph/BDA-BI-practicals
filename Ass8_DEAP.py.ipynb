{
 "cells": [
  {
   "cell_type": "code",
   "execution_count": 2,
   "id": "7aee5fcf",
   "metadata": {},
   "outputs": [
    {
     "name": "stdout",
     "output_type": "stream",
     "text": [
      "Collecting deap\n",
      "  Downloading deap-1.4.1.tar.gz (1.1 MB)\n",
      "     ---------------------------------------- 0.0/1.1 MB ? eta -:--:--\n",
      "     ----------------------- ---------------- 0.6/1.1 MB 20.1 MB/s eta 0:00:01\n",
      "     ----------------------- ---------------- 0.6/1.1 MB 20.1 MB/s eta 0:00:01\n",
      "     ----------------------- ---------------- 0.6/1.1 MB 20.1 MB/s eta 0:00:01\n",
      "     ----------------------- ---------------- 0.6/1.1 MB 20.1 MB/s eta 0:00:01\n",
      "     ----------------------- ---------------- 0.6/1.1 MB 20.1 MB/s eta 0:00:01\n",
      "     ----------------------- ---------------- 0.6/1.1 MB 20.1 MB/s eta 0:00:01\n",
      "     ----------------------- ---------------- 0.6/1.1 MB 20.1 MB/s eta 0:00:01\n",
      "     ----------------------- ---------------- 0.6/1.1 MB 20.1 MB/s eta 0:00:01\n",
      "     ----------------------- ---------------- 0.6/1.1 MB 20.1 MB/s eta 0:00:01\n",
      "     ----------------------- ---------------- 0.6/1.1 MB 20.1 MB/s eta 0:00:01\n",
      "     ----------------------- ---------------- 0.6/1.1 MB 20.1 MB/s eta 0:00:01\n",
      "     -------------------------------- ------- 0.9/1.1 MB 1.6 MB/s eta 0:00:01\n",
      "     -------------------------------- ------- 0.9/1.1 MB 1.6 MB/s eta 0:00:01\n",
      "     ------------------------------------ --- 1.0/1.1 MB 1.5 MB/s eta 0:00:01\n",
      "     ---------------------------------------- 1.1/1.1 MB 1.6 MB/s eta 0:00:00\n",
      "  Preparing metadata (setup.py): started\n",
      "  Preparing metadata (setup.py): finished with status 'done'\n",
      "Requirement already satisfied: numpy in c:\\users\\ankita\\anaconda3\\lib\\site-packages (from deap) (1.24.3)\n",
      "Building wheels for collected packages: deap\n",
      "  Building wheel for deap (setup.py): started\n",
      "  Building wheel for deap (setup.py): finished with status 'done'\n",
      "  Created wheel for deap: filename=deap-1.4.1-py3-none-any.whl size=97349 sha256=3ca303f55007801b5ae4a125db4933f32eb3cc9decc0d030e8d02457e2b30c82\n",
      "  Stored in directory: c:\\users\\ankita\\appdata\\local\\pip\\cache\\wheels\\f8\\64\\b8\\65eacfbff3024ae2e2beb22e691d5c8abb89fbd863b8049b5f\n",
      "Successfully built deap\n",
      "Installing collected packages: deap\n",
      "Successfully installed deap-1.4.1\n",
      "Note: you may need to restart the kernel to use updated packages.\n"
     ]
    }
   ],
   "source": [
    "pip install deap"
   ]
  },
  {
   "cell_type": "code",
   "execution_count": 1,
   "id": "de6c5f3f",
   "metadata": {},
   "outputs": [
    {
     "name": "stdout",
     "output_type": "stream",
     "text": [
      "100\n"
     ]
    }
   ],
   "source": [
    "import random\n",
    "from deap import creator, base, tools, algorithms\n",
    "\n",
    "creator.create(\"FitnessMax\", base.Fitness, weights=(1.0,))   \n",
    "# it creates fitnessmax class by using base.fitness inbuilt class from deap with fitness maximization approach\n",
    "\n",
    "creator.create(\"Individual\", list, fitness=creator.FitnessMax) \n",
    "#creates individual class having maximum fitness\n",
    "\n",
    "\n",
    "\n",
    "toolbox = base.Toolbox()\n",
    "\n",
    "\n",
    "\n",
    "#set up the DEAP toolbox with the necessary functions for creating individuals and populations for the genetic algorithm\n",
    "\n",
    "toolbox.register(\"attr_bool\", random.randint, 0, 1) \n",
    "#registers function attr_bool in deap that generates attribute for individuals in population here this lies between 0 and 1\n",
    "\n",
    "toolbox.register(\"individual\", tools.initRepeat, creator.Individual, toolbox.attr_bool, n=100)  \n",
    "#it cretes a function individual for creating individuals by repeating attr_bool function for 100 times to save 100 binary attributes with each individual\n",
    "\n",
    "toolbox.register(\"population\", tools.initRepeat, list, toolbox.individual)\n",
    "#creates entire population having multiple individuals and repeated individual function to add new individual\n",
    "\n",
    "\n",
    "#takes an individual (candidate solution) as input.\n",
    "def evalOneMax(individual):\n",
    "    return sum(individual),          #sum of the binary values in the individualand cretes a tuple with single elment\n",
    "\n",
    "\n",
    "\n",
    "toolbox.register(\"evaluate\", evalOneMax)  \n",
    "#registers evalonemax function on deap as evaluate to calculate  fitness of individual\n",
    "\n",
    "toolbox.register(\"mate\", tools.cxTwoPoint)      \n",
    "#registers the tools.cxTwoPoint function as the crossover operator in the DEAP toolbox\n",
    "#The crossover operator is responsible for combining genetic information from two parent individuals to produce offspring individuals. \n",
    "#In this case, tools.cxTwoPoint performs a two-point crossover\n",
    "\n",
    "toolbox.register(\"mutate\", tools.mutFlipBit, indpb=0.05)\n",
    "# mutation operator: responsible for introducing random changes to the genetic information of individuals to maintain diversity \n",
    "#in the population. tools.mutFlipBit flips bits in the individual with a probability of 0.05 (indpb=0.05).\n",
    "\n",
    "toolbox.register(\"select\", tools.selTournament, tournsize=3)\n",
    "#selection operator: The selection operator is responsible for selecting individuals from the population \n",
    "#to undergo genetic operations (crossover and mutation) to form the next generation. \n",
    "#In this case, tools.selTournament performs tournament selection with a tournament size of 3 (tournsize=3).\n",
    "\n",
    "population = toolbox.population(n=300)\n",
    "\n",
    "NGEN=40\n",
    "for gen in range(NGEN):\n",
    "    \n",
    "    offspring = algorithms.varAnd(population, toolbox, cxpb=0.5, mutpb=0.1)\n",
    "    #generates offspring by applying variation operators (crossover and mutation) to the current population (population). \n",
    "    #It uses the varAnd function from the algorithms module, which performs crossover (cxpb=0.5, crossover probability) \n",
    "    #and mutation (mutpb=0.1, mutation probability) with a certain probability for each.\n",
    "    \n",
    "    fits = toolbox.map(toolbox.evaluate, offspring)\n",
    "    #evaluates the fitness of each offspring in the population using the evaluation function (toolbox.evaluate). \n",
    "    #It uses the map function to efficiently apply the evaluation function to each offspring in parallel.\n",
    "    \n",
    "    for fit, ind in zip(fits, offspring): #assigns the calculated fitness values to the corresponding offspring individuals.\n",
    "        ind.fitness.values = fit   \n",
    "    population = toolbox.select(offspring, k=len(population))\n",
    "    #selects individuals from the offspring population to form the next generation of the population. \n",
    "        #It uses the selection operator (toolbox.select) to select individuals based on their fitness values.\n",
    "        \n",
    "top10 = tools.selBest(population, k=10) #selects the top 10 individuals from the final population using the tools.selBest function. \n",
    "                                         #It returns a list of the top individuals.\n",
    "    \n",
    "    \n",
    "print(len(top10[0]))"
   ]
  },
  {
   "cell_type": "code",
   "execution_count": null,
   "id": "9390a322",
   "metadata": {},
   "outputs": [],
   "source": []
  }
 ],
 "metadata": {
  "kernelspec": {
   "display_name": "Python 3 (ipykernel)",
   "language": "python",
   "name": "python3"
  },
  "language_info": {
   "codemirror_mode": {
    "name": "ipython",
    "version": 3
   },
   "file_extension": ".py",
   "mimetype": "text/x-python",
   "name": "python",
   "nbconvert_exporter": "python",
   "pygments_lexer": "ipython3",
   "version": "3.11.4"
  }
 },
 "nbformat": 4,
 "nbformat_minor": 5
}
